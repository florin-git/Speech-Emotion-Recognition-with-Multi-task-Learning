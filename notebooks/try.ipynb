{
 "cells": [
  {
   "cell_type": "code",
   "execution_count": 1,
   "metadata": {},
   "outputs": [],
   "source": [
    "import logging\n",
    "import pathlib\n",
    "import re\n",
    "import sys\n",
    "from dataclasses import dataclass, field\n",
    "from typing import Any, Callable, Dict, List, Optional, Set, Union\n",
    "\n",
    "import datasets\n",
    "import numpy as np\n",
    "import torch\n",
    "import torch.nn as nn\n",
    "import torch.nn.functional as F\n",
    "\n",
    "import librosa\n",
    "\n",
    "import soundfile as sf\n",
    "import os"
   ]
  },
  {
   "cell_type": "code",
   "execution_count": 3,
   "metadata": {},
   "outputs": [
    {
     "data": {
      "text/plain": [
       "(array([-0.0050354 , -0.00497437, -0.0038147 , ..., -0.00265503,\n",
       "        -0.00317383, -0.00418091], dtype=float32),\n",
       " 16000)"
      ]
     },
     "execution_count": 3,
     "metadata": {},
     "output_type": "execute_result"
    }
   ],
   "source": [
    "file_path = \"../data/IEMOCAP_full_release/Session1/sentences/wav/Ses01F_impro01/Ses01F_impro01_F000.wav\"\n",
    "\n",
    "y, sr = librosa.load(file_path, sr=16000)\n",
    "y, sr"
   ]
  },
  {
   "cell_type": "code",
   "execution_count": 9,
   "metadata": {},
   "outputs": [
    {
     "data": {
      "text/plain": [
       "(31129,)"
      ]
     },
     "execution_count": 9,
     "metadata": {},
     "output_type": "execute_result"
    }
   ],
   "source": [
    "y.shape"
   ]
  },
  {
   "cell_type": "code",
   "execution_count": 11,
   "metadata": {},
   "outputs": [
    {
     "data": {
      "text/plain": [
       "1.9455625"
      ]
     },
     "execution_count": 11,
     "metadata": {},
     "output_type": "execute_result"
    }
   ],
   "source": [
    "duration = librosa.get_duration(y=y, sr=sr)\n",
    "librosa.fra"
   ]
  },
  {
   "cell_type": "code",
   "execution_count": 2,
   "metadata": {},
   "outputs": [
    {
     "data": {
      "text/plain": [
       "['preprocessing_config.ini']"
      ]
     },
     "execution_count": 2,
     "metadata": {},
     "output_type": "execute_result"
    }
   ],
   "source": [
    "import configparser\n",
    "\n",
    "cfg = configparser.ConfigParser()\n",
    "cfg.read('preprocessing_config.ini')\n"
   ]
  },
  {
   "cell_type": "code",
   "execution_count": 3,
   "metadata": {},
   "outputs": [
    {
     "data": {
      "text/plain": [
       "'../dataset/matrices/'"
      ]
     },
     "execution_count": 3,
     "metadata": {},
     "output_type": "execute_result"
    }
   ],
   "source": [
    "cfg.get(\"preprocessing\", \"output_folder\")"
   ]
  },
  {
   "cell_type": "code",
   "execution_count": null,
   "metadata": {},
   "outputs": [],
   "source": [
    "import argparse\n",
    "\n",
    "class LoadFromFile (argparse.Action):\n",
    "    def __call__ (self, parser, namespace, values, option_string = None):\n",
    "        with values as f:\n",
    "            # parse arguments in the file and store them in the target namespace\n",
    "            # parser.parse_args(f.read().split(), namespace)\n",
    "            content = f.read()\n",
    "\n",
    "\n",
    "        "
   ]
  },
  {
   "cell_type": "code",
   "execution_count": 8,
   "metadata": {},
   "outputs": [
    {
     "name": "stdout",
     "output_type": "stream",
     "text": [
      "{'dataset': {'script_path': '../datasets/cifar10_keras.py'}, 'model': {'script_path': '../models/optimized.py'}, 'optimizer': {'script_path': '../optimizers/adam_keras.py', 'initial_lr': 0.0001}, 'train': {'script_path': '../train/train_keras.py', 'artifacts_path': '../artifacts/cifar10_opt/', 'batch_size': 64, 'epochs': 1000, 'data_augmentation': {'samplewise_center': False, 'samplewise_std_normalization': False, 'rotation_range': 0, 'width_shift_range': 0.1, 'height_shift_range': 0.1, 'horizontal_flip': True, 'vertical_flip': False, 'zoom_range': 0, 'shear_range': 0, 'channel_shift_range': 0, 'featurewise_center': False, 'zca_whitening': False}}, 'evaluate': {'batch_size': 1000, 'augmentation_factor': 32, 'data_augmentation': {'samplewise_center': False, 'samplewise_std_normalization': False, 'rotation_range': 0, 'width_shift_range': 0.15, 'height_shift_range': 0.15, 'horizontal_flip': True, 'vertical_flip': False, 'zoom_range': 0, 'shear_range': 0, 'channel_shift_range': 0, 'featurewise_center': False, 'zca_whitening': False}}}\n"
     ]
    }
   ],
   "source": [
    "import yaml\n",
    "\n",
    "with open('conf.yaml') as f:\n",
    "    \n",
    "    data = yaml.load(f, Loader=yaml.FullLoader)\n",
    "    print(data)"
   ]
  },
  {
   "cell_type": "code",
   "execution_count": 31,
   "metadata": {},
   "outputs": [
    {
     "name": "stdout",
     "output_type": "stream",
     "text": [
      "{'dataset': {'path': '.../iemocap/', 'split_id': '01F', 'orthography': 'librispeech'}, 'model': {'checkpoint': 'facebook/wav2vec2-base', 'tokenizer': 'facebook/wav2vec2-base', 'cache_dir': 'cache'}, 'training': {'output_dir': None}}\n"
     ]
    }
   ],
   "source": [
    "\n",
    "#read yaml file\n",
    "with open('conf.yaml') as file:\n",
    "  config = yaml.safe_load(file)\n",
    "  \n",
    "  print(config)"
   ]
  },
  {
   "cell_type": "code",
   "execution_count": 30,
   "metadata": {},
   "outputs": [
    {
     "data": {
      "text/plain": [
       "'.../iemocap/'"
      ]
     },
     "execution_count": 30,
     "metadata": {},
     "output_type": "execute_result"
    }
   ],
   "source": [
    "config['dataset']['path']"
   ]
  }
 ],
 "metadata": {
  "kernelspec": {
   "display_name": "Python 3.7.13 ('DL')",
   "language": "python",
   "name": "python3"
  },
  "language_info": {
   "codemirror_mode": {
    "name": "ipython",
    "version": 3
   },
   "file_extension": ".py",
   "mimetype": "text/x-python",
   "name": "python",
   "nbconvert_exporter": "python",
   "pygments_lexer": "ipython3",
   "version": "3.7.13"
  },
  "orig_nbformat": 4,
  "vscode": {
   "interpreter": {
    "hash": "bf37a2529baf03c803266b8d55d553bda8f92a60c47b8d9f7bdcfc02cbd55fef"
   }
  }
 },
 "nbformat": 4,
 "nbformat_minor": 2
}
