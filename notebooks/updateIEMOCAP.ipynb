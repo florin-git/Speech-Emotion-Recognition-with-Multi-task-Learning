{
 "cells": [
  {
   "cell_type": "code",
   "execution_count": 13,
   "id": "fb87a6b3",
   "metadata": {},
   "outputs": [],
   "source": [
    "import numpy as np\n",
    "import pandas as pd\n",
    "import re"
   ]
  },
  {
   "cell_type": "code",
   "execution_count": 4,
   "id": "30407e2b",
   "metadata": {},
   "outputs": [],
   "source": [
    "file = \"../iemocap/iemocap_01F.train.csv\"\n",
    "df = pd.read_csv(file, sep=\",\", header=0)"
   ]
  },
  {
   "cell_type": "code",
   "execution_count": 37,
   "id": "fb4d342a",
   "metadata": {},
   "outputs": [],
   "source": [
    "line = df['file'][0]"
   ]
  },
  {
   "cell_type": "code",
   "execution_count": 74,
   "id": "cd597bfd",
   "metadata": {},
   "outputs": [],
   "source": [
    "import glob\n",
    "\n",
    "files = glob.glob(\"../iemocap/**\")\n",
    "\n",
    "df = {}\n",
    "\n",
    "for f in files:\n",
    "    df[f[19:]] = pd.read_csv(f, sep=\",\", header=0)"
   ]
  },
  {
   "cell_type": "code",
   "execution_count": 40,
   "id": "1ed7bf63",
   "metadata": {},
   "outputs": [],
   "source": [
    "if 'Ses01' in line:\n",
    "    line = line.replace(\"Session1\", \"Session1\")"
   ]
  },
  {
   "cell_type": "code",
   "execution_count": 104,
   "id": "524406cc",
   "metadata": {
    "scrolled": false
   },
   "outputs": [],
   "source": [
    "for file, table in df.items():\n",
    "    for idx, path in enumerate(table['file']):\n",
    "        if 'Ses02' in path:\n",
    "            table['file'][idx] = path.replace(\"Session1\", \"Session2\")\n",
    "        elif 'Ses03' in path:\n",
    "            table['file'][idx] = path.replace(\"Session1\", \"Session3\")\n",
    "        elif 'Ses04' in path:\n",
    "            table['file'][idx] = path.replace(\"Session1\", \"Session4\")\n",
    "        elif 'Ses05' in path:\n",
    "            table['file'][idx] = path.replace(\"Session1\", \"Session5\")\n",
    "            "
   ]
  },
  {
   "cell_type": "code",
   "execution_count": 107,
   "id": "831174ff",
   "metadata": {},
   "outputs": [
    {
     "data": {
      "text/plain": [
       "'data/IEMOCAP_full_release/Session5/sentences/wav/Ses05M_script03_2/Ses05M_script03_2_M020.wav'"
      ]
     },
     "execution_count": 107,
     "metadata": {},
     "output_type": "execute_result"
    }
   ],
   "source": [
    "df[names[1]].iloc[5000][0]"
   ]
  },
  {
   "cell_type": "code",
   "execution_count": 118,
   "id": "cf0d1a87",
   "metadata": {},
   "outputs": [],
   "source": [
    "for idx, f in enumerate(df.keys()):\n",
    "    df[f].to_csv(files[idx], index=False)"
   ]
  },
  {
   "cell_type": "code",
   "execution_count": 117,
   "id": "20ee5672",
   "metadata": {},
   "outputs": [],
   "source": []
  }
 ],
 "metadata": {
  "kernelspec": {
   "display_name": "Python 3.7 (DL)",
   "language": "python",
   "name": "dl"
  },
  "language_info": {
   "codemirror_mode": {
    "name": "ipython",
    "version": 3
   },
   "file_extension": ".py",
   "mimetype": "text/x-python",
   "name": "python",
   "nbconvert_exporter": "python",
   "pygments_lexer": "ipython3",
   "version": "3.7.13"
  }
 },
 "nbformat": 4,
 "nbformat_minor": 5
}
